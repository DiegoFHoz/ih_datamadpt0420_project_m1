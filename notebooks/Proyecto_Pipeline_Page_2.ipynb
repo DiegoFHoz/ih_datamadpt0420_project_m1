{
 "cells": [
  {
   "cell_type": "code",
   "execution_count": 1,
   "metadata": {},
   "outputs": [],
   "source": [
    "import pandas as pd\n",
    "import requests\n",
    "import random\n",
    "import json\n",
    "from bs4 import BeautifulSoup\n",
    "import re\n",
    "from sqlalchemy import create_engine\n",
    "from sqlalchemy.pool import StaticPool\n",
    "import numpy as np\n"
   ]
  },
  {
   "cell_type": "code",
   "execution_count": null,
   "metadata": {},
   "outputs": [],
   "source": []
  },
  {
   "cell_type": "code",
   "execution_count": null,
   "metadata": {},
   "outputs": [],
   "source": []
  },
  {
   "cell_type": "code",
   "execution_count": null,
   "metadata": {},
   "outputs": [],
   "source": []
  },
  {
   "cell_type": "code",
   "execution_count": 221,
   "metadata": {},
   "outputs": [],
   "source": [
    "def acquire (path: str):\n",
    "    db_connection = create_engine(f'sqlite:///{path}', poolclass=StaticPool)\n",
    "    data_table = pd.read_sql_query('SELECT\\\n",
    "                                    country_info.uuid,\\\n",
    "                                    country_info.country_code,\\\n",
    "                                    country_info.rural as habitat,\\\n",
    "                                    career_info.dem_education_level as education_level,\\\n",
    "                                    career_info.normalized_job_code as job_code,\\\n",
    "                                    personal_info.gender,\\\n",
    "                                    personal_info.age,\\\n",
    "                                    personal_info.age_group \\\n",
    "                                    from country_info\\\n",
    "                                    join career_info \\\n",
    "                                    on country_info.uuid = career_info.uuid\\\n",
    "                                    join personal_info \\\n",
    "                                    on career_info.uuid = personal_info.uuid', con=db_connection)\n",
    "    data_table\n",
    "    return data_table"
   ]
  },
  {
   "cell_type": "code",
   "execution_count": 234,
   "metadata": {},
   "outputs": [
    {
     "data": {
      "text/html": [
       "<div>\n",
       "<style scoped>\n",
       "    .dataframe tbody tr th:only-of-type {\n",
       "        vertical-align: middle;\n",
       "    }\n",
       "\n",
       "    .dataframe tbody tr th {\n",
       "        vertical-align: top;\n",
       "    }\n",
       "\n",
       "    .dataframe thead th {\n",
       "        text-align: right;\n",
       "    }\n",
       "</style>\n",
       "<table border=\"1\" class=\"dataframe\">\n",
       "  <thead>\n",
       "    <tr style=\"text-align: right;\">\n",
       "      <th></th>\n",
       "      <th>uuid</th>\n",
       "      <th>country_code</th>\n",
       "      <th>habitat</th>\n",
       "      <th>education_level</th>\n",
       "      <th>job_code</th>\n",
       "      <th>gender</th>\n",
       "      <th>age</th>\n",
       "      <th>age_group</th>\n",
       "    </tr>\n",
       "  </thead>\n",
       "  <tbody>\n",
       "    <tr>\n",
       "      <th>0</th>\n",
       "      <td>f6e7ee00-deac-0133-4de8-0a81e8b09a82</td>\n",
       "      <td>AT</td>\n",
       "      <td>countryside</td>\n",
       "      <td>no</td>\n",
       "      <td>None</td>\n",
       "      <td>male</td>\n",
       "      <td>61 years old</td>\n",
       "      <td>40_65</td>\n",
       "    </tr>\n",
       "    <tr>\n",
       "      <th>1</th>\n",
       "      <td>54f0f1c0-dda1-0133-a559-0a81e8b09a82</td>\n",
       "      <td>AT</td>\n",
       "      <td>urban</td>\n",
       "      <td>high</td>\n",
       "      <td>861a9b9151e11362eb3c77ca914172d0</td>\n",
       "      <td>male</td>\n",
       "      <td>57 years old</td>\n",
       "      <td>40_65</td>\n",
       "    </tr>\n",
       "    <tr>\n",
       "      <th>2</th>\n",
       "      <td>83127080-da3d-0133-c74f-0a81e8b09a82</td>\n",
       "      <td>AT</td>\n",
       "      <td>city</td>\n",
       "      <td>None</td>\n",
       "      <td>None</td>\n",
       "      <td>male</td>\n",
       "      <td>32 years old</td>\n",
       "      <td>26_39</td>\n",
       "    </tr>\n",
       "    <tr>\n",
       "      <th>3</th>\n",
       "      <td>15626d40-db13-0133-ea5c-0a81e8b09a82</td>\n",
       "      <td>AT</td>\n",
       "      <td>Country</td>\n",
       "      <td>high</td>\n",
       "      <td>049a3f3a2b5f85cb2971ba77ad66e10c</td>\n",
       "      <td>Male</td>\n",
       "      <td>45 years old</td>\n",
       "      <td>40_65</td>\n",
       "    </tr>\n",
       "    <tr>\n",
       "      <th>4</th>\n",
       "      <td>24954a70-db98-0133-4a64-0a81e8b09a82</td>\n",
       "      <td>AT</td>\n",
       "      <td>city</td>\n",
       "      <td>high</td>\n",
       "      <td>f4b2fb1aa40f661488e2782b6d57ad2f</td>\n",
       "      <td>Fem</td>\n",
       "      <td>41 years old</td>\n",
       "      <td>40_65</td>\n",
       "    </tr>\n",
       "    <tr>\n",
       "      <th>...</th>\n",
       "      <td>...</td>\n",
       "      <td>...</td>\n",
       "      <td>...</td>\n",
       "      <td>...</td>\n",
       "      <td>...</td>\n",
       "      <td>...</td>\n",
       "      <td>...</td>\n",
       "      <td>...</td>\n",
       "    </tr>\n",
       "    <tr>\n",
       "      <th>9644</th>\n",
       "      <td>7d1ac020-dcb4-0133-817a-0a81e8b09a82</td>\n",
       "      <td>SK</td>\n",
       "      <td>urban</td>\n",
       "      <td>high</td>\n",
       "      <td>847165cfda6b1dc82ae22b967da8af2f</td>\n",
       "      <td>FeMale</td>\n",
       "      <td>37 years old</td>\n",
       "      <td>26_39</td>\n",
       "    </tr>\n",
       "    <tr>\n",
       "      <th>9645</th>\n",
       "      <td>39f989f0-db52-0133-8482-0a81e8b09a82</td>\n",
       "      <td>SK</td>\n",
       "      <td>urban</td>\n",
       "      <td>high</td>\n",
       "      <td>a4d5b8b38f9513825d0d94a981ebe962</td>\n",
       "      <td>Male</td>\n",
       "      <td>53 years old</td>\n",
       "      <td>40_65</td>\n",
       "    </tr>\n",
       "    <tr>\n",
       "      <th>9646</th>\n",
       "      <td>70ce4a90-d965-0133-f5e4-0a81e8b09a82</td>\n",
       "      <td>SK</td>\n",
       "      <td>Non-Rural</td>\n",
       "      <td>low</td>\n",
       "      <td>None</td>\n",
       "      <td>male</td>\n",
       "      <td>1992</td>\n",
       "      <td>juvenile</td>\n",
       "    </tr>\n",
       "    <tr>\n",
       "      <th>9647</th>\n",
       "      <td>2896e440-db3c-0133-5b67-0a81e8b09a82</td>\n",
       "      <td>SK</td>\n",
       "      <td>city</td>\n",
       "      <td>low</td>\n",
       "      <td>775190277a849cba701b306a7b374c0a</td>\n",
       "      <td>male</td>\n",
       "      <td>47 years old</td>\n",
       "      <td>40_65</td>\n",
       "    </tr>\n",
       "    <tr>\n",
       "      <th>9648</th>\n",
       "      <td>06217ba0-dd56-0133-edda-0a81e8b09a82</td>\n",
       "      <td>SK</td>\n",
       "      <td>city</td>\n",
       "      <td>high</td>\n",
       "      <td>8a7a3f1bce0958ae9f090683e5a925b7</td>\n",
       "      <td>FeMale</td>\n",
       "      <td>51 years old</td>\n",
       "      <td>40_65</td>\n",
       "    </tr>\n",
       "  </tbody>\n",
       "</table>\n",
       "<p>9649 rows × 8 columns</p>\n",
       "</div>"
      ],
      "text/plain": [
       "                                      uuid country_code      habitat  \\\n",
       "0     f6e7ee00-deac-0133-4de8-0a81e8b09a82           AT  countryside   \n",
       "1     54f0f1c0-dda1-0133-a559-0a81e8b09a82           AT        urban   \n",
       "2     83127080-da3d-0133-c74f-0a81e8b09a82           AT         city   \n",
       "3     15626d40-db13-0133-ea5c-0a81e8b09a82           AT      Country   \n",
       "4     24954a70-db98-0133-4a64-0a81e8b09a82           AT         city   \n",
       "...                                    ...          ...          ...   \n",
       "9644  7d1ac020-dcb4-0133-817a-0a81e8b09a82           SK        urban   \n",
       "9645  39f989f0-db52-0133-8482-0a81e8b09a82           SK        urban   \n",
       "9646  70ce4a90-d965-0133-f5e4-0a81e8b09a82           SK    Non-Rural   \n",
       "9647  2896e440-db3c-0133-5b67-0a81e8b09a82           SK         city   \n",
       "9648  06217ba0-dd56-0133-edda-0a81e8b09a82           SK         city   \n",
       "\n",
       "     education_level                          job_code  gender           age  \\\n",
       "0                 no                              None    male  61 years old   \n",
       "1               high  861a9b9151e11362eb3c77ca914172d0    male  57 years old   \n",
       "2               None                              None    male  32 years old   \n",
       "3               high  049a3f3a2b5f85cb2971ba77ad66e10c    Male  45 years old   \n",
       "4               high  f4b2fb1aa40f661488e2782b6d57ad2f     Fem  41 years old   \n",
       "...              ...                               ...     ...           ...   \n",
       "9644            high  847165cfda6b1dc82ae22b967da8af2f  FeMale  37 years old   \n",
       "9645            high  a4d5b8b38f9513825d0d94a981ebe962    Male  53 years old   \n",
       "9646             low                              None    male          1992   \n",
       "9647             low  775190277a849cba701b306a7b374c0a    male  47 years old   \n",
       "9648            high  8a7a3f1bce0958ae9f090683e5a925b7  FeMale  51 years old   \n",
       "\n",
       "     age_group  \n",
       "0        40_65  \n",
       "1        40_65  \n",
       "2        26_39  \n",
       "3        40_65  \n",
       "4        40_65  \n",
       "...        ...  \n",
       "9644     26_39  \n",
       "9645     40_65  \n",
       "9646  juvenile  \n",
       "9647     40_65  \n",
       "9648     40_65  \n",
       "\n",
       "[9649 rows x 8 columns]"
      ]
     },
     "execution_count": 234,
     "metadata": {},
     "output_type": "execute_result"
    }
   ],
   "source": [
    "data_table=acquire('./raw_data_project_m1.db')\n",
    "\n",
    "data_table"
   ]
  },
  {
   "cell_type": "code",
   "execution_count": 235,
   "metadata": {},
   "outputs": [],
   "source": [
    "def habitat_table(data_table):\n",
    "    data_table['habitat']=data_table['habitat'].str.lower()\n",
    "    data_table['habitat']=data_table['habitat'].str.replace('city', 'urban').str.replace('countryside', 'non-urban').str.replace('country', 'non-urban').str.replace('non-rural','urban').str.replace('rural','non-urban')\n",
    "    return data_table"
   ]
  },
  {
   "cell_type": "code",
   "execution_count": null,
   "metadata": {},
   "outputs": [],
   "source": []
  },
  {
   "cell_type": "code",
   "execution_count": 236,
   "metadata": {},
   "outputs": [],
   "source": [
    "data_table2=habitat_table(data_table)"
   ]
  },
  {
   "cell_type": "code",
   "execution_count": 237,
   "metadata": {},
   "outputs": [
    {
     "data": {
      "text/plain": [
       "array(['male', 'Male', 'Fem', 'FeMale', 'female'], dtype=object)"
      ]
     },
     "execution_count": 237,
     "metadata": {},
     "output_type": "execute_result"
    }
   ],
   "source": [
    "data_table2['gender'].unique()"
   ]
  },
  {
   "cell_type": "code",
   "execution_count": 238,
   "metadata": {},
   "outputs": [],
   "source": [
    "def gender(data_table): \n",
    "    data_table['gender']=data_table['gender'].str.replace('Fem', 'female')\n",
    "    data_table['gender']=data_table['gender'].str.lower()\n",
    "    return data_table"
   ]
  },
  {
   "cell_type": "code",
   "execution_count": 265,
   "metadata": {},
   "outputs": [],
   "source": [
    "data_table3=gender(data_table2)"
   ]
  },
  {
   "cell_type": "code",
   "execution_count": 76,
   "metadata": {},
   "outputs": [
    {
     "data": {
      "text/plain": [
       "array(['61 years old', '57 years old', '32 years old', '45 years old',\n",
       "       '41 years old', '1990', '47 years old', '34 years old', '1994',\n",
       "       '49 years old', '58 years old', '1991', '40 years old',\n",
       "       '37 years old', '48 years old', '31 years old', '1999', '1989',\n",
       "       '2001', '35 years old', '51 years old', '1988', '42 years old',\n",
       "       '33 years old', '64 years old', '38 years old', '55 years old',\n",
       "       '1992', '1993', '36 years old', '46 years old', '1998',\n",
       "       '44 years old', '1996', '65 years old', '1995', '52 years old',\n",
       "       '2002', '50 years old', '1997', '43 years old', '1987', '1986',\n",
       "       '39 years old', '53 years old', '62 years old', '2000',\n",
       "       '54 years old', '56 years old', '59 years old', '60 years old',\n",
       "       '63 years old'], dtype=object)"
      ]
     },
     "execution_count": 76,
     "metadata": {},
     "output_type": "execute_result"
    }
   ],
   "source": [
    "data_table['age'].unique()"
   ]
  },
  {
   "cell_type": "code",
   "execution_count": 283,
   "metadata": {},
   "outputs": [],
   "source": [
    "def age (data_table):\n",
    "    if len(data_table)==4:\n",
    "        x= np.subtract(2016,int(data_table))\n",
    "        return f'{str(x)} years old'\n",
    "    else:\n",
    "        return data_table\n",
    "      \n",
    " \n",
    "\n",
    "    \n",
    "\n",
    "\n",
    "\n",
    "\n",
    "#lambda m: str(int(m.group(1))+int(m.group(2)"
   ]
  },
  {
   "cell_type": "code",
   "execution_count": 285,
   "metadata": {},
   "outputs": [
    {
     "data": {
      "text/plain": [
       "0       61 years old\n",
       "1       57 years old\n",
       "2       32 years old\n",
       "3       45 years old\n",
       "4       41 years old\n",
       "            ...     \n",
       "9644    37 years old\n",
       "9645    53 years old\n",
       "9646    24 years old\n",
       "9647    47 years old\n",
       "9648    51 years old\n",
       "Name: age, Length: 9649, dtype: object"
      ]
     },
     "execution_count": 285,
     "metadata": {},
     "output_type": "execute_result"
    }
   ],
   "source": [
    "data_table3['age'].apply(age)\n",
    "\n"
   ]
  },
  {
   "cell_type": "code",
   "execution_count": null,
   "metadata": {},
   "outputs": [],
   "source": []
  },
  {
   "cell_type": "code",
   "execution_count": null,
   "metadata": {},
   "outputs": [],
   "source": []
  },
  {
   "cell_type": "code",
   "execution_count": null,
   "metadata": {},
   "outputs": [],
   "source": []
  }
 ],
 "metadata": {
  "kernelspec": {
   "display_name": "ironhack_env",
   "language": "python",
   "name": "ironhack_env"
  },
  "language_info": {
   "codemirror_mode": {
    "name": "ipython",
    "version": 3
   },
   "file_extension": ".py",
   "mimetype": "text/x-python",
   "name": "python",
   "nbconvert_exporter": "python",
   "pygments_lexer": "ipython3",
   "version": "3.7.7"
  }
 },
 "nbformat": 4,
 "nbformat_minor": 4
}
